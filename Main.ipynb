{
 "cells": [
  {
   "cell_type": "markdown",
   "id": "e77af8d7-1302-46d8-b457-122fe036ac84",
   "metadata": {},
   "source": [
    "# Main Script for Air Pollution Analysis"
   ]
  },
  {
   "cell_type": "code",
   "execution_count": 1,
   "id": "cd93b8f2-7940-41e4-993c-8589f686724e",
   "metadata": {},
   "outputs": [],
   "source": [
    "# Import useful libraries\n",
    "import pandas as pd\n",
    "import datetime as dt\n",
    "import matplotlib.pyplot as plt\n",
    "import matplotlib.patches as mpatch\n",
    "import matplotlib.gridspec as gridspec\n",
    "import matplotlib.cm as cm\n",
    "from scipy import stats\n",
    "from scipy import signal\n",
    "import numpy as np\n",
    "from numpy.polynomial.polynomial import polyfit"
   ]
  },
  {
   "cell_type": "code",
   "execution_count": null,
   "id": "a6c31d88-b963-454b-97fc-6f1d579d81e7",
   "metadata": {},
   "outputs": [],
   "source": []
  }
 ],
 "metadata": {
  "kernelspec": {
   "display_name": "Python 3 (ipykernel)",
   "language": "python",
   "name": "python3"
  },
  "language_info": {
   "codemirror_mode": {
    "name": "ipython",
    "version": 3
   },
   "file_extension": ".py",
   "mimetype": "text/x-python",
   "name": "python",
   "nbconvert_exporter": "python",
   "pygments_lexer": "ipython3",
   "version": "3.9.12"
  }
 },
 "nbformat": 4,
 "nbformat_minor": 5
}
